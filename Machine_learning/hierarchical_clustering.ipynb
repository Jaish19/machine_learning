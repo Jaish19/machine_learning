{
  "cells": [
    {
      "cell_type": "code",
      "source": [
        "import numpy as np\n",
        "import matplotlib.pyplot as plt\n",
        "from scipy.cluster.hierarchy import dendrogram, linkage\n",
        "from sklearn.cluster import AgglomerativeClustering\n",
        "\n",
        "\n",
        "# ward =  minimize the variance between clusters.\n",
        "\n",
        "x = [4, 5, 10, 4, 3, 11, 14 , 6, 10, 12]\n",
        "y = [21, 19, 24, 17, 16, 25, 24, 22, 21, 21]\n",
        "\n",
        "plt.scatter(x, y)\n",
        "\n",
        "#---------\n",
        "\n",
        "# data = list(zip(x, y))\n",
        "\n",
        "# linkage_data = linkage(data, method='ward', metric='euclidean')\n",
        "# dendrogram(linkage_data)\n",
        "\n",
        "# plt.scatter(x, y)\n",
        "# plt.show()\n",
        "\n",
        "#---------------------\n",
        "\n",
        "\n",
        "data = list(zip(x, y))\n",
        "print(data)\n",
        "\n",
        "hierarchical_cluster = AgglomerativeClustering(n_clusters=2, affinity='euclidean', linkage='ward')\n",
        "labels = hierarchical_cluster.fit_predict(data)\n",
        "\n",
        "print(labels)\n",
        "\n",
        "plt.scatter(x, y, c=labels)\n",
        "plt.show()\n",
        "\n",
        "\n",
        "\n",
        "\n",
        "\n"
      ],
      "metadata": {
        "id": "8oc2OLGMdpKs"
      },
      "execution_count": null,
      "outputs": []
    },
    {
      "cell_type": "code",
      "source": [
        "# Mean\n",
        "X_mean = X.mean()\n",
        "\n",
        "# Standard deviation\n",
        "X_std = X.std()\n",
        "\n",
        "# Standardization\n",
        "Z = (X - X_mean) / X_std"
      ],
      "metadata": {
        "id": "Pk_M1Dfsd33K"
      },
      "execution_count": null,
      "outputs": []
    },
    {
      "cell_type": "code",
      "source": [
        "\n",
        "# covariance\n",
        "c = Z.cov()\n",
        "\n",
        "# Plot the covariance matrix\n",
        "import matplotlib.pyplot as plt\n",
        "import seaborn as sns\n",
        "sns.heatmap(c)\n",
        "plt.show()"
      ],
      "metadata": {
        "id": "qjVpMZ5Rd-lG"
      },
      "execution_count": null,
      "outputs": []
    }
  ],
  "metadata": {
    "colab": {
      "name": "Welcome To Colaboratory",
      "toc_visible": true,
      "provenance": []
    },
    "kernelspec": {
      "display_name": "Python 3",
      "name": "python3"
    }
  },
  "nbformat": 4,
  "nbformat_minor": 0
}